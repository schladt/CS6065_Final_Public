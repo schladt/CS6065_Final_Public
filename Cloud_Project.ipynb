{
  "nbformat": 4,
  "nbformat_minor": 0,
  "metadata": {
    "colab": {
      "provenance": [],
      "toc_visible": true
    },
    "kernelspec": {
      "name": "python3",
      "display_name": "Python 3"
    },
    "language_info": {
      "name": "python"
    }
  },
  "cells": [
    {
      "cell_type": "code",
      "source": [
        "# imports\n",
        "import pandas as pd"
      ],
      "metadata": {
        "id": "mns0x8lu75xE"
      },
      "execution_count": 1,
      "outputs": []
    },
    {
      "cell_type": "code",
      "execution_count": 2,
      "metadata": {
        "id": "vfCrkZOnYEOp",
        "colab": {
          "base_uri": "https://localhost:8080/",
          "height": 380
        },
        "outputId": "be6ae589-6a57-4c90-9ee2-13748a185cef"
      },
      "outputs": [
        {
          "output_type": "error",
          "ename": "FileNotFoundError",
          "evalue": "ignored",
          "traceback": [
            "\u001b[0;31m---------------------------------------------------------------------------\u001b[0m",
            "\u001b[0;31mFileNotFoundError\u001b[0m                         Traceback (most recent call last)",
            "\u001b[0;32m<ipython-input-2-5be207f49dd0>\u001b[0m in \u001b[0;36m<module>\u001b[0;34m\u001b[0m\n\u001b[1;32m      1\u001b[0m \u001b[0;31m# Dataframe for the whole dataset\u001b[0m\u001b[0;34m\u001b[0m\u001b[0;34m\u001b[0m\u001b[0;34m\u001b[0m\u001b[0m\n\u001b[0;32m----> 2\u001b[0;31m \u001b[0mhouseholds_df\u001b[0m \u001b[0;34m=\u001b[0m \u001b[0mpd\u001b[0m\u001b[0;34m.\u001b[0m\u001b[0mread_csv\u001b[0m\u001b[0;34m(\u001b[0m\u001b[0;34m'400_households.csv'\u001b[0m\u001b[0;34m)\u001b[0m\u001b[0;34m\u001b[0m\u001b[0;34m\u001b[0m\u001b[0m\n\u001b[0m\u001b[1;32m      3\u001b[0m \u001b[0mtransactions_df\u001b[0m \u001b[0;34m=\u001b[0m \u001b[0mpd\u001b[0m\u001b[0;34m.\u001b[0m\u001b[0mread_csv\u001b[0m\u001b[0;34m(\u001b[0m\u001b[0;34m'400_transactions.csv'\u001b[0m\u001b[0;34m)\u001b[0m\u001b[0;34m\u001b[0m\u001b[0;34m\u001b[0m\u001b[0m\n\u001b[1;32m      4\u001b[0m \u001b[0mproducts_df\u001b[0m \u001b[0;34m=\u001b[0m \u001b[0mpd\u001b[0m\u001b[0;34m.\u001b[0m\u001b[0mread_csv\u001b[0m\u001b[0;34m(\u001b[0m\u001b[0;34m'400_products.csv'\u001b[0m\u001b[0;34m)\u001b[0m\u001b[0;34m\u001b[0m\u001b[0;34m\u001b[0m\u001b[0m\n",
            "\u001b[0;32m/usr/local/lib/python3.8/dist-packages/pandas/util/_decorators.py\u001b[0m in \u001b[0;36mwrapper\u001b[0;34m(*args, **kwargs)\u001b[0m\n\u001b[1;32m    309\u001b[0m                     \u001b[0mstacklevel\u001b[0m\u001b[0;34m=\u001b[0m\u001b[0mstacklevel\u001b[0m\u001b[0;34m,\u001b[0m\u001b[0;34m\u001b[0m\u001b[0;34m\u001b[0m\u001b[0m\n\u001b[1;32m    310\u001b[0m                 )\n\u001b[0;32m--> 311\u001b[0;31m             \u001b[0;32mreturn\u001b[0m \u001b[0mfunc\u001b[0m\u001b[0;34m(\u001b[0m\u001b[0;34m*\u001b[0m\u001b[0margs\u001b[0m\u001b[0;34m,\u001b[0m \u001b[0;34m**\u001b[0m\u001b[0mkwargs\u001b[0m\u001b[0;34m)\u001b[0m\u001b[0;34m\u001b[0m\u001b[0;34m\u001b[0m\u001b[0m\n\u001b[0m\u001b[1;32m    312\u001b[0m \u001b[0;34m\u001b[0m\u001b[0m\n\u001b[1;32m    313\u001b[0m         \u001b[0;32mreturn\u001b[0m \u001b[0mwrapper\u001b[0m\u001b[0;34m\u001b[0m\u001b[0;34m\u001b[0m\u001b[0m\n",
            "\u001b[0;32m/usr/local/lib/python3.8/dist-packages/pandas/io/parsers/readers.py\u001b[0m in \u001b[0;36mread_csv\u001b[0;34m(filepath_or_buffer, sep, delimiter, header, names, index_col, usecols, squeeze, prefix, mangle_dupe_cols, dtype, engine, converters, true_values, false_values, skipinitialspace, skiprows, skipfooter, nrows, na_values, keep_default_na, na_filter, verbose, skip_blank_lines, parse_dates, infer_datetime_format, keep_date_col, date_parser, dayfirst, cache_dates, iterator, chunksize, compression, thousands, decimal, lineterminator, quotechar, quoting, doublequote, escapechar, comment, encoding, encoding_errors, dialect, error_bad_lines, warn_bad_lines, on_bad_lines, delim_whitespace, low_memory, memory_map, float_precision, storage_options)\u001b[0m\n\u001b[1;32m    584\u001b[0m     \u001b[0mkwds\u001b[0m\u001b[0;34m.\u001b[0m\u001b[0mupdate\u001b[0m\u001b[0;34m(\u001b[0m\u001b[0mkwds_defaults\u001b[0m\u001b[0;34m)\u001b[0m\u001b[0;34m\u001b[0m\u001b[0;34m\u001b[0m\u001b[0m\n\u001b[1;32m    585\u001b[0m \u001b[0;34m\u001b[0m\u001b[0m\n\u001b[0;32m--> 586\u001b[0;31m     \u001b[0;32mreturn\u001b[0m \u001b[0m_read\u001b[0m\u001b[0;34m(\u001b[0m\u001b[0mfilepath_or_buffer\u001b[0m\u001b[0;34m,\u001b[0m \u001b[0mkwds\u001b[0m\u001b[0;34m)\u001b[0m\u001b[0;34m\u001b[0m\u001b[0;34m\u001b[0m\u001b[0m\n\u001b[0m\u001b[1;32m    587\u001b[0m \u001b[0;34m\u001b[0m\u001b[0m\n\u001b[1;32m    588\u001b[0m \u001b[0;34m\u001b[0m\u001b[0m\n",
            "\u001b[0;32m/usr/local/lib/python3.8/dist-packages/pandas/io/parsers/readers.py\u001b[0m in \u001b[0;36m_read\u001b[0;34m(filepath_or_buffer, kwds)\u001b[0m\n\u001b[1;32m    480\u001b[0m \u001b[0;34m\u001b[0m\u001b[0m\n\u001b[1;32m    481\u001b[0m     \u001b[0;31m# Create the parser.\u001b[0m\u001b[0;34m\u001b[0m\u001b[0;34m\u001b[0m\u001b[0;34m\u001b[0m\u001b[0m\n\u001b[0;32m--> 482\u001b[0;31m     \u001b[0mparser\u001b[0m \u001b[0;34m=\u001b[0m \u001b[0mTextFileReader\u001b[0m\u001b[0;34m(\u001b[0m\u001b[0mfilepath_or_buffer\u001b[0m\u001b[0;34m,\u001b[0m \u001b[0;34m**\u001b[0m\u001b[0mkwds\u001b[0m\u001b[0;34m)\u001b[0m\u001b[0;34m\u001b[0m\u001b[0;34m\u001b[0m\u001b[0m\n\u001b[0m\u001b[1;32m    483\u001b[0m \u001b[0;34m\u001b[0m\u001b[0m\n\u001b[1;32m    484\u001b[0m     \u001b[0;32mif\u001b[0m \u001b[0mchunksize\u001b[0m \u001b[0;32mor\u001b[0m \u001b[0miterator\u001b[0m\u001b[0;34m:\u001b[0m\u001b[0;34m\u001b[0m\u001b[0;34m\u001b[0m\u001b[0m\n",
            "\u001b[0;32m/usr/local/lib/python3.8/dist-packages/pandas/io/parsers/readers.py\u001b[0m in \u001b[0;36m__init__\u001b[0;34m(self, f, engine, **kwds)\u001b[0m\n\u001b[1;32m    809\u001b[0m             \u001b[0mself\u001b[0m\u001b[0;34m.\u001b[0m\u001b[0moptions\u001b[0m\u001b[0;34m[\u001b[0m\u001b[0;34m\"has_index_names\"\u001b[0m\u001b[0;34m]\u001b[0m \u001b[0;34m=\u001b[0m \u001b[0mkwds\u001b[0m\u001b[0;34m[\u001b[0m\u001b[0;34m\"has_index_names\"\u001b[0m\u001b[0;34m]\u001b[0m\u001b[0;34m\u001b[0m\u001b[0;34m\u001b[0m\u001b[0m\n\u001b[1;32m    810\u001b[0m \u001b[0;34m\u001b[0m\u001b[0m\n\u001b[0;32m--> 811\u001b[0;31m         \u001b[0mself\u001b[0m\u001b[0;34m.\u001b[0m\u001b[0m_engine\u001b[0m \u001b[0;34m=\u001b[0m \u001b[0mself\u001b[0m\u001b[0;34m.\u001b[0m\u001b[0m_make_engine\u001b[0m\u001b[0;34m(\u001b[0m\u001b[0mself\u001b[0m\u001b[0;34m.\u001b[0m\u001b[0mengine\u001b[0m\u001b[0;34m)\u001b[0m\u001b[0;34m\u001b[0m\u001b[0;34m\u001b[0m\u001b[0m\n\u001b[0m\u001b[1;32m    812\u001b[0m \u001b[0;34m\u001b[0m\u001b[0m\n\u001b[1;32m    813\u001b[0m     \u001b[0;32mdef\u001b[0m \u001b[0mclose\u001b[0m\u001b[0;34m(\u001b[0m\u001b[0mself\u001b[0m\u001b[0;34m)\u001b[0m\u001b[0;34m:\u001b[0m\u001b[0;34m\u001b[0m\u001b[0;34m\u001b[0m\u001b[0m\n",
            "\u001b[0;32m/usr/local/lib/python3.8/dist-packages/pandas/io/parsers/readers.py\u001b[0m in \u001b[0;36m_make_engine\u001b[0;34m(self, engine)\u001b[0m\n\u001b[1;32m   1038\u001b[0m             )\n\u001b[1;32m   1039\u001b[0m         \u001b[0;31m# error: Too many arguments for \"ParserBase\"\u001b[0m\u001b[0;34m\u001b[0m\u001b[0;34m\u001b[0m\u001b[0;34m\u001b[0m\u001b[0m\n\u001b[0;32m-> 1040\u001b[0;31m         \u001b[0;32mreturn\u001b[0m \u001b[0mmapping\u001b[0m\u001b[0;34m[\u001b[0m\u001b[0mengine\u001b[0m\u001b[0;34m]\u001b[0m\u001b[0;34m(\u001b[0m\u001b[0mself\u001b[0m\u001b[0;34m.\u001b[0m\u001b[0mf\u001b[0m\u001b[0;34m,\u001b[0m \u001b[0;34m**\u001b[0m\u001b[0mself\u001b[0m\u001b[0;34m.\u001b[0m\u001b[0moptions\u001b[0m\u001b[0;34m)\u001b[0m  \u001b[0;31m# type: ignore[call-arg]\u001b[0m\u001b[0;34m\u001b[0m\u001b[0;34m\u001b[0m\u001b[0m\n\u001b[0m\u001b[1;32m   1041\u001b[0m \u001b[0;34m\u001b[0m\u001b[0m\n\u001b[1;32m   1042\u001b[0m     \u001b[0;32mdef\u001b[0m \u001b[0m_failover_to_python\u001b[0m\u001b[0;34m(\u001b[0m\u001b[0mself\u001b[0m\u001b[0;34m)\u001b[0m\u001b[0;34m:\u001b[0m\u001b[0;34m\u001b[0m\u001b[0;34m\u001b[0m\u001b[0m\n",
            "\u001b[0;32m/usr/local/lib/python3.8/dist-packages/pandas/io/parsers/c_parser_wrapper.py\u001b[0m in \u001b[0;36m__init__\u001b[0;34m(self, src, **kwds)\u001b[0m\n\u001b[1;32m     49\u001b[0m \u001b[0;34m\u001b[0m\u001b[0m\n\u001b[1;32m     50\u001b[0m         \u001b[0;31m# open handles\u001b[0m\u001b[0;34m\u001b[0m\u001b[0;34m\u001b[0m\u001b[0;34m\u001b[0m\u001b[0m\n\u001b[0;32m---> 51\u001b[0;31m         \u001b[0mself\u001b[0m\u001b[0;34m.\u001b[0m\u001b[0m_open_handles\u001b[0m\u001b[0;34m(\u001b[0m\u001b[0msrc\u001b[0m\u001b[0;34m,\u001b[0m \u001b[0mkwds\u001b[0m\u001b[0;34m)\u001b[0m\u001b[0;34m\u001b[0m\u001b[0;34m\u001b[0m\u001b[0m\n\u001b[0m\u001b[1;32m     52\u001b[0m         \u001b[0;32massert\u001b[0m \u001b[0mself\u001b[0m\u001b[0;34m.\u001b[0m\u001b[0mhandles\u001b[0m \u001b[0;32mis\u001b[0m \u001b[0;32mnot\u001b[0m \u001b[0;32mNone\u001b[0m\u001b[0;34m\u001b[0m\u001b[0;34m\u001b[0m\u001b[0m\n\u001b[1;32m     53\u001b[0m \u001b[0;34m\u001b[0m\u001b[0m\n",
            "\u001b[0;32m/usr/local/lib/python3.8/dist-packages/pandas/io/parsers/base_parser.py\u001b[0m in \u001b[0;36m_open_handles\u001b[0;34m(self, src, kwds)\u001b[0m\n\u001b[1;32m    220\u001b[0m         \u001b[0mLet\u001b[0m \u001b[0mthe\u001b[0m \u001b[0mreaders\u001b[0m \u001b[0mopen\u001b[0m \u001b[0mIOHandles\u001b[0m \u001b[0mafter\u001b[0m \u001b[0mthey\u001b[0m \u001b[0mare\u001b[0m \u001b[0mdone\u001b[0m \u001b[0;32mwith\u001b[0m \u001b[0mtheir\u001b[0m \u001b[0mpotential\u001b[0m \u001b[0mraises\u001b[0m\u001b[0;34m.\u001b[0m\u001b[0;34m\u001b[0m\u001b[0;34m\u001b[0m\u001b[0m\n\u001b[1;32m    221\u001b[0m         \"\"\"\n\u001b[0;32m--> 222\u001b[0;31m         self.handles = get_handle(\n\u001b[0m\u001b[1;32m    223\u001b[0m             \u001b[0msrc\u001b[0m\u001b[0;34m,\u001b[0m\u001b[0;34m\u001b[0m\u001b[0;34m\u001b[0m\u001b[0m\n\u001b[1;32m    224\u001b[0m             \u001b[0;34m\"r\"\u001b[0m\u001b[0;34m,\u001b[0m\u001b[0;34m\u001b[0m\u001b[0;34m\u001b[0m\u001b[0m\n",
            "\u001b[0;32m/usr/local/lib/python3.8/dist-packages/pandas/io/common.py\u001b[0m in \u001b[0;36mget_handle\u001b[0;34m(path_or_buf, mode, encoding, compression, memory_map, is_text, errors, storage_options)\u001b[0m\n\u001b[1;32m    700\u001b[0m         \u001b[0;32mif\u001b[0m \u001b[0mioargs\u001b[0m\u001b[0;34m.\u001b[0m\u001b[0mencoding\u001b[0m \u001b[0;32mand\u001b[0m \u001b[0;34m\"b\"\u001b[0m \u001b[0;32mnot\u001b[0m \u001b[0;32min\u001b[0m \u001b[0mioargs\u001b[0m\u001b[0;34m.\u001b[0m\u001b[0mmode\u001b[0m\u001b[0;34m:\u001b[0m\u001b[0;34m\u001b[0m\u001b[0;34m\u001b[0m\u001b[0m\n\u001b[1;32m    701\u001b[0m             \u001b[0;31m# Encoding\u001b[0m\u001b[0;34m\u001b[0m\u001b[0;34m\u001b[0m\u001b[0;34m\u001b[0m\u001b[0m\n\u001b[0;32m--> 702\u001b[0;31m             handle = open(\n\u001b[0m\u001b[1;32m    703\u001b[0m                 \u001b[0mhandle\u001b[0m\u001b[0;34m,\u001b[0m\u001b[0;34m\u001b[0m\u001b[0;34m\u001b[0m\u001b[0m\n\u001b[1;32m    704\u001b[0m                 \u001b[0mioargs\u001b[0m\u001b[0;34m.\u001b[0m\u001b[0mmode\u001b[0m\u001b[0;34m,\u001b[0m\u001b[0;34m\u001b[0m\u001b[0;34m\u001b[0m\u001b[0m\n",
            "\u001b[0;31mFileNotFoundError\u001b[0m: [Errno 2] No such file or directory: '400_households.csv'"
          ]
        }
      ],
      "source": [
        "# Dataframe for the whole dataset\n",
        "households_df = pd.read_csv('400_households.csv')\n",
        "transactions_df = pd.read_csv('400_transactions.csv')\n",
        "products_df = pd.read_csv('400_products.csv')"
      ]
    },
    {
      "cell_type": "code",
      "source": [
        "households_df = households_df.rename(str.strip, axis='columns')\n",
        "transactions_df = transactions_df.rename(str.strip, axis='columns')\n",
        "products_df = products_df.rename(str.strip, axis='columns')"
      ],
      "metadata": {
        "id": "JfKN3TTG-STs"
      },
      "execution_count": null,
      "outputs": []
    },
    {
      "cell_type": "code",
      "source": [
        "households_df"
      ],
      "metadata": {
        "id": "IkYDCP4_-g4t"
      },
      "execution_count": null,
      "outputs": []
    },
    {
      "cell_type": "code",
      "source": [
        "transactions_df"
      ],
      "metadata": {
        "id": "izUEZ6NM-phU"
      },
      "execution_count": null,
      "outputs": []
    },
    {
      "cell_type": "code",
      "source": [
        "transactions_df['PURCHASE_MONTH'] = pd.DatetimeIndex(transactions_df['PURCHASE_']).month\n",
        "transactions_df"
      ],
      "metadata": {
        "id": "wS6uYwQkvwNS"
      },
      "execution_count": null,
      "outputs": []
    },
    {
      "cell_type": "code",
      "source": [
        "products_df"
      ],
      "metadata": {
        "id": "EYKZuJZmk4u2"
      },
      "execution_count": null,
      "outputs": []
    },
    {
      "cell_type": "code",
      "source": [
        "transactions_combined_household_df = transactions_df.merge(households_df, on='HSHD_NUM', how='left')\n",
        "transactions_combined_household_df"
      ],
      "metadata": {
        "id": "EX6jVPgqjbfO"
      },
      "execution_count": null,
      "outputs": []
    },
    {
      "cell_type": "code",
      "source": [
        "all_three_combined_df = transactions_combined_household_df.merge(products_df, on='PRODUCT_NUM', how='left')"
      ],
      "metadata": {
        "id": "DhCTLOt7m-Ju"
      },
      "execution_count": null,
      "outputs": []
    },
    {
      "cell_type": "code",
      "source": [
        "# Correlation Graphs with scatter_matrix()"
      ],
      "metadata": {
        "id": "Uhnmp6d1avnq"
      },
      "execution_count": null,
      "outputs": []
    },
    {
      "cell_type": "code",
      "source": [
        "# 1. How does customer engagement change over time?\n",
        "\n",
        "# Do households spend less or more?\n",
        "# What categories are growing or shrinking with changing customer engagement?\n",
        "\n",
        "# 2. Which demographic factors (e.g. household size, presence of children, income) appear to affect customer engagement?\n",
        "\n",
        "# How do they affect customer engagement with certain categories?\n",
        "# How might we re-engage customers within the store? Or within a specific category?"
      ],
      "metadata": {
        "id": "LFMfpbmha0pO"
      },
      "execution_count": null,
      "outputs": []
    },
    {
      "cell_type": "code",
      "source": [
        "# Customer Engagement can be affected by: (Department, Commodity, Spend, Units, Store_region, \n",
        "# Week_num, Loyalty_flag, Age_range, Income_range, Homeowner_desc, Household_size, Children)\n",
        "\n",
        "# Customer Engagement can be shown by: (units bought, money spent)\n",
        "\n",
        "# Department, -> Spend, Week_num, Year, Purchase_Month, Units\n",
        "# Commodity, -> Spend, Week_num, Year, Purchase_Month, Units\n",
        "# Brand Type -> Spend, Units, Age_range, Income_range\n",
        "# Purchase_month -> Spend, Units, Age_range, Marital, Income_range, \n",
        "# Spend -> Year, Month, Week_num, Age_range, Marital, Income_range, Homeowner, HouseHold_size, Children\n",
        "# Store_R -> Spend, Week_num, Year, Purchase_Month, Units"
      ],
      "metadata": {
        "id": "H4AMtw4Ghg8X"
      },
      "execution_count": null,
      "outputs": []
    },
    {
      "cell_type": "code",
      "source": [
        "all_three_combined_df"
      ],
      "metadata": {
        "id": "IyC_DxqY3GmA"
      },
      "execution_count": null,
      "outputs": []
    },
    {
      "cell_type": "code",
      "source": [
        "import matplotlib.pyplot as plt"
      ],
      "metadata": {
        "id": "WChoo4Ce45yx"
      },
      "execution_count": null,
      "outputs": []
    },
    {
      "cell_type": "code",
      "source": [
        "# 1\n",
        "# Customer engagement as measured by 'units'\n",
        "# 'units' vs year\n",
        "\n",
        "units_year_df = pd.DataFrame({\n",
        "  'YEAR': ['2018', '2019', '2020'],\n",
        "  'UNITS': [all_three_combined_df.loc[all_three_combined_df['YEAR'] == 2018, 'UNITS'].sum(),\n",
        "            all_three_combined_df.loc[all_three_combined_df['YEAR'] == 2019, 'UNITS'].sum(),\n",
        "            all_three_combined_df.loc[all_three_combined_df['YEAR'] == 2020, 'UNITS'].sum()]  \n",
        "})\n",
        "\n",
        "units_year_df.plot(kind='bar', x='YEAR', y='UNITS')\n",
        "plt.xlabel('YEAR')\n",
        "plt.ylabel('UNITS')\n",
        "plt.title('UNITS by YEARS')"
      ],
      "metadata": {
        "id": "OrPmTEBt6Lk9"
      },
      "execution_count": null,
      "outputs": []
    },
    {
      "cell_type": "code",
      "source": [
        "# 2\n",
        "# Customer engagement as measured by 'units'\n",
        "# 'units' vs month\n",
        "\n",
        "units_month_df = pd.DataFrame({\n",
        "  'PURCHASE_MONTH': [month for month in range(1, 13)],\n",
        "  'UNITS': [\n",
        "            all_three_combined_df.loc[all_three_combined_df['PURCHASE_MONTH'] == month, 'UNITS'].sum() for month in range(1, 13)\n",
        "          ]  \n",
        "})\n",
        "\n",
        "units_month_df.plot(kind='bar', x='PURCHASE_MONTH', y='UNITS')\n",
        "plt.xlabel('PURCHASE_MONTH')\n",
        "plt.ylabel('UNITS')\n",
        "plt.title('UNITS by PURCHASE_MONTH')"
      ],
      "metadata": {
        "id": "6P5CTITl8nNt"
      },
      "execution_count": null,
      "outputs": []
    },
    {
      "cell_type": "code",
      "source": [
        "# 3\n",
        "# Customer engagement as measured by 'units'\n",
        "# 'units' vs week\n",
        "\n",
        "units_week_df = pd.DataFrame({\n",
        "  'WEEK_NUM': [week for week in range(1, 53)],\n",
        "  'UNITS': [\n",
        "            all_three_combined_df.loc[all_three_combined_df['WEEK_NUM'] == week, 'UNITS'].sum() for week in range(1, 53)\n",
        "          ]  \n",
        "})\n",
        "\n",
        "units_week_df.plot(kind='bar', x='WEEK_NUM', y='UNITS', figsize=(15, 10))\n",
        "plt.xlabel('WEEK_NUM')\n",
        "plt.ylabel('UNITS')\n",
        "plt.title('UNITS by WEEK_NUM')"
      ],
      "metadata": {
        "id": "QDTg-XiRB1rC"
      },
      "execution_count": null,
      "outputs": []
    },
    {
      "cell_type": "code",
      "source": [
        "# 4\n",
        "# Customer engagement as measured by 'units'\n",
        "# 'units' vs store_r\n",
        "\n",
        "units_region_df = pd.DataFrame({\n",
        "  'STORE_REGION': list(all_three_combined_df['STORE_R'].unique()),\n",
        "  'UNITS': [\n",
        "            all_three_combined_df.loc[all_three_combined_df['STORE_R'] == store_region, 'UNITS'].sum() for store_region in list(all_three_combined_df['STORE_R'].unique())\n",
        "          ]  \n",
        "})\n",
        "\n",
        "units_region_df.plot(kind='bar', x='STORE_REGION', y='UNITS', figsize=(15, 10))\n",
        "plt.xlabel('STORE_REGION')\n",
        "plt.ylabel('UNITS')\n",
        "plt.title('UNITS by STORE_REGION')"
      ],
      "metadata": {
        "id": "TlCxvQY2CeN7"
      },
      "execution_count": null,
      "outputs": []
    },
    {
      "cell_type": "code",
      "source": [
        "# 5\n",
        "# Customer engagement as measured by 'units'\n",
        "# 'units' vs marital\n",
        "\n",
        "units_marital_df = pd.DataFrame({\n",
        "  'MARITAL': list(all_three_combined_df['MARITAL'].unique()),\n",
        "  'UNITS': [\n",
        "            all_three_combined_df.loc[all_three_combined_df['MARITAL'] == marital_status, 'UNITS'].sum() for marital_status in list(all_three_combined_df['MARITAL'].unique())\n",
        "          ]  \n",
        "})\n",
        "\n",
        "units_marital_df.plot(kind='bar', x='MARITAL', y='UNITS', figsize=(15, 10))\n",
        "plt.xlabel('MARITAL')\n",
        "plt.ylabel('UNITS')\n",
        "plt.title('UNITS by MARITAL')"
      ],
      "metadata": {
        "id": "aJ01VcEhGvKS"
      },
      "execution_count": null,
      "outputs": []
    },
    {
      "cell_type": "code",
      "source": [
        "# 6\n",
        "# Customer engagement as measured by 'units'\n",
        "# 'units' vs income\n",
        "\n",
        "units_income_df = pd.DataFrame({\n",
        "  'INCOME_RANGE': [income.strip() for income in list(all_three_combined_df['INCOME_RANGE'].unique())],\n",
        "  'UNITS': [\n",
        "            all_three_combined_df.loc[all_three_combined_df['INCOME_RANGE'] == income_range, 'UNITS'].sum() for income_range in list(all_three_combined_df['INCOME_RANGE'].unique())\n",
        "          ]  \n",
        "})\n",
        "\n",
        "units_income_df.plot(kind='bar', x='INCOME_RANGE', y='UNITS', figsize=(15, 10))\n",
        "plt.xlabel('INCOME_RANGE')\n",
        "plt.ylabel('UNITS')\n",
        "plt.title('UNITS by INCOME_RANGE')"
      ],
      "metadata": {
        "id": "s2s2vjGBHm04"
      },
      "execution_count": null,
      "outputs": []
    },
    {
      "cell_type": "code",
      "source": [
        "# 6\n",
        "# Customer engagement as measured by 'units'\n",
        "# 'units' vs hh_size\n",
        "\n",
        "units_hhsize_df = pd.DataFrame({\n",
        "  'HH_SIZE': [hh_size.strip() for hh_size in list(all_three_combined_df['HH_SIZE'].unique())],\n",
        "  'UNITS': [\n",
        "            all_three_combined_df.loc[all_three_combined_df['HH_SIZE'] == hh_size, 'UNITS'].sum() for hh_size in list(all_three_combined_df['HH_SIZE'].unique())\n",
        "          ]  \n",
        "})\n",
        "\n",
        "units_hhsize_df.plot(kind='bar', x='HH_SIZE', y='UNITS', figsize=(15, 10))\n",
        "plt.xlabel('HH_SIZE')\n",
        "plt.ylabel('UNITS')\n",
        "plt.title('UNITS by HH_SIZE')"
      ],
      "metadata": {
        "id": "BLXLM05VKuRd"
      },
      "execution_count": null,
      "outputs": []
    },
    {
      "cell_type": "code",
      "source": [
        "# 7\n",
        "# Customer engagement as measured by 'units'\n",
        "# 'units' vs children\n",
        "\n",
        "units_children_df = pd.DataFrame({\n",
        "  'CHILDREN': [children for children in list(all_three_combined_df['CHILDREN'].unique())],\n",
        "  'UNITS': [\n",
        "            all_three_combined_df.loc[all_three_combined_df['CHILDREN'] == children, 'UNITS'].sum() for children in list(all_three_combined_df['CHILDREN'].unique())\n",
        "          ]  \n",
        "})\n",
        "\n",
        "units_children_df.plot(kind='bar', x='CHILDREN', y='UNITS', figsize=(15, 10))\n",
        "plt.xlabel('CHILDREN')\n",
        "plt.ylabel('UNITS')\n",
        "plt.title('UNITS by CHILDREN')"
      ],
      "metadata": {
        "id": "uhffvcVJLLxg"
      },
      "execution_count": null,
      "outputs": []
    },
    {
      "cell_type": "code",
      "source": [
        "# 8\n",
        "# Customer engagement as measured by 'units'\n",
        "# 'units' vs hshd_composition\n",
        "\n",
        "units_hshdcomposition_df = pd.DataFrame({\n",
        "  'HSHD_COMPOSITION': [hshd_composition for hshd_composition in list(all_three_combined_df['HSHD_COMPOSITION'].unique())],\n",
        "  'UNITS': [\n",
        "            all_three_combined_df.loc[all_three_combined_df['HSHD_COMPOSITION'] == hshd_composition, 'UNITS'].sum() for hshd_composition in list(all_three_combined_df['HSHD_COMPOSITION'].unique())\n",
        "          ]  \n",
        "})\n",
        "\n",
        "units_hshdcomposition_df.plot(kind='bar', x='HSHD_COMPOSITION', y='UNITS', figsize=(15, 10))\n",
        "plt.xlabel('HSHD_COMPOSITION')\n",
        "plt.ylabel('UNITS')\n",
        "plt.title('UNITS by HSHD_COMPOSITION')"
      ],
      "metadata": {
        "id": "19epTAO0L3vE"
      },
      "execution_count": null,
      "outputs": []
    },
    {
      "cell_type": "code",
      "source": [
        "all_three_combined_df['HSHD_COMPOSITION'].unique()"
      ],
      "metadata": {
        "id": "F05rI9cSIa8t"
      },
      "execution_count": null,
      "outputs": []
    },
    {
      "cell_type": "code",
      "source": [
        "all_three_combined_df.columns"
      ],
      "metadata": {
        "id": "QucpuCnxIeVO"
      },
      "execution_count": null,
      "outputs": []
    },
    {
      "cell_type": "code",
      "source": [],
      "metadata": {
        "id": "m78_TLVjKmiv"
      },
      "execution_count": null,
      "outputs": []
    },
    {
      "cell_type": "code",
      "source": [],
      "metadata": {
        "id": "AshJboL9Q0lz"
      },
      "execution_count": null,
      "outputs": []
    },
    {
      "cell_type": "code",
      "source": [
        "# 1\n",
        "# Customer engagement as measured by 'spend'\n",
        "# 'spend' vs year\n",
        "\n",
        "spend_year_df = pd.DataFrame({\n",
        "  'YEAR': ['2018', '2019', '2020'],\n",
        "  'SPEND': [all_three_combined_df.loc[all_three_combined_df['YEAR'] == 2018, 'SPEND'].sum(),\n",
        "            all_three_combined_df.loc[all_three_combined_df['YEAR'] == 2019, 'SPEND'].sum(),\n",
        "            all_three_combined_df.loc[all_three_combined_df['YEAR'] == 2020, 'SPEND'].sum()]  \n",
        "})\n",
        "\n",
        "spend_year_df.plot(kind='bar', x='YEAR', y='SPEND')\n",
        "plt.xlabel('YEAR')\n",
        "plt.ylabel('SPEND')\n",
        "plt.title('SPEND by YEARS')"
      ],
      "metadata": {
        "id": "xasCyf3oQ01r"
      },
      "execution_count": null,
      "outputs": []
    },
    {
      "cell_type": "code",
      "source": [
        "# 2\n",
        "# Customer engagement as measured by 'spend'\n",
        "# 'spend' vs month\n",
        "\n",
        "spend_month_df = pd.DataFrame({\n",
        "  'PURCHASE_MONTH': [month for month in range(1, 13)],\n",
        "  'SPEND': [\n",
        "            all_three_combined_df.loc[all_three_combined_df['PURCHASE_MONTH'] == month, 'SPEND'].sum() for month in range(1, 13)\n",
        "          ]  \n",
        "})\n",
        "\n",
        "spend_month_df.plot(kind='bar', x='PURCHASE_MONTH', y='SPEND')\n",
        "plt.xlabel('PURCHASE_MONTH')\n",
        "plt.ylabel('SPEND')\n",
        "plt.title('SPEND by PURCHASE_MONTH')"
      ],
      "metadata": {
        "id": "viHhcb4cQ_lx"
      },
      "execution_count": null,
      "outputs": []
    },
    {
      "cell_type": "code",
      "source": [
        "# 3\n",
        "# Customer engagement as measured by 'spend'\n",
        "# 'spend' vs week\n",
        "\n",
        "spend_week_df = pd.DataFrame({\n",
        "  'WEEK_NUM': [week for week in range(1, 53)],\n",
        "  'SPEND': [\n",
        "            all_three_combined_df.loc[all_three_combined_df['WEEK_NUM'] == week, 'SPEND'].sum() for week in range(1, 53)\n",
        "          ]  \n",
        "})\n",
        "\n",
        "spend_week_df.plot(kind='bar', x='WEEK_NUM', y='SPEND', figsize=(15, 10))\n",
        "plt.xlabel('WEEK_NUM')\n",
        "plt.ylabel('SPEND')\n",
        "plt.title('SPEND by WEEK_NUM')"
      ],
      "metadata": {
        "id": "5kXms_eSRh-c"
      },
      "execution_count": null,
      "outputs": []
    },
    {
      "cell_type": "code",
      "source": [
        "# 4\n",
        "# Customer engagement as measured by 'spend'\n",
        "# 'spend' vs store_r\n",
        "\n",
        "spend_region_df = pd.DataFrame({\n",
        "  'STORE_REGION': list(all_three_combined_df['STORE_R'].unique()),\n",
        "  'SPEND': [\n",
        "            all_three_combined_df.loc[all_three_combined_df['STORE_R'] == store_region, 'SPEND'].sum() for store_region in list(all_three_combined_df['STORE_R'].unique())\n",
        "          ]  \n",
        "})\n",
        "\n",
        "spend_region_df.plot(kind='bar', x='STORE_REGION', y='SPEND', figsize=(15, 10))\n",
        "plt.xlabel('STORE_REGION')\n",
        "plt.ylabel('SPEND')\n",
        "plt.title('SPEND by STORE_REGION')"
      ],
      "metadata": {
        "id": "23F35RZXRxga"
      },
      "execution_count": null,
      "outputs": []
    },
    {
      "cell_type": "code",
      "source": [
        "# 5\n",
        "# Customer engagement as measured by 'spend'\n",
        "# 'spend' vs marital\n",
        "\n",
        "spend_marital_df = pd.DataFrame({\n",
        "  'MARITAL': list(all_three_combined_df['MARITAL'].unique()),\n",
        "  'SPEND': [\n",
        "            all_three_combined_df.loc[all_three_combined_df['MARITAL'] == marital_status, 'SPEND'].sum() for marital_status in list(all_three_combined_df['MARITAL'].unique())\n",
        "          ]  \n",
        "})\n",
        "\n",
        "spend_marital_df.plot(kind='bar', x='MARITAL', y='SPEND', figsize=(15, 10))\n",
        "plt.xlabel('MARITAL')\n",
        "plt.ylabel('SPEND')\n",
        "plt.title('SPEND by MARITAL')"
      ],
      "metadata": {
        "id": "-9UDddY5Sq9u"
      },
      "execution_count": null,
      "outputs": []
    },
    {
      "cell_type": "code",
      "source": [
        "# 6\n",
        "# Customer engagement as measured by 'spend'\n",
        "# 'spend' vs hh_size\n",
        "\n",
        "spend_hhsize_df = pd.DataFrame({\n",
        "  'HH_SIZE': [hh_size.strip() for hh_size in list(all_three_combined_df['HH_SIZE'].unique())],\n",
        "  'SPEND': [\n",
        "            all_three_combined_df.loc[all_three_combined_df['HH_SIZE'] == hh_size, 'SPEND'].sum() for hh_size in list(all_three_combined_df['HH_SIZE'].unique())\n",
        "          ]  \n",
        "})\n",
        "\n",
        "spend_hhsize_df.plot(kind='bar', x='HH_SIZE', y='SPEND', figsize=(15, 10))\n",
        "plt.xlabel('HH_SIZE')\n",
        "plt.ylabel('SPEND')\n",
        "plt.title('SPEND by HH_SIZE')"
      ],
      "metadata": {
        "id": "enPYhT5yS3QD"
      },
      "execution_count": null,
      "outputs": []
    },
    {
      "cell_type": "code",
      "source": [
        "# 7\n",
        "# Customer engagement as measured by 'spend'\n",
        "# 'spend' vs children\n",
        "\n",
        "spend_children_df = pd.DataFrame({\n",
        "  'CHILDREN': [children for children in list(all_three_combined_df['CHILDREN'].unique())],\n",
        "  'SPEND': [\n",
        "            all_three_combined_df.loc[all_three_combined_df['CHILDREN'] == children, 'SPEND'].sum() for children in list(all_three_combined_df['CHILDREN'].unique())\n",
        "          ]  \n",
        "})\n",
        "\n",
        "spend_children_df.plot(kind='bar', x='CHILDREN', y='SPEND', figsize=(15, 10))\n",
        "plt.xlabel('CHILDREN')\n",
        "plt.ylabel('SPEND')\n",
        "plt.title('SPEND by CHILDREN')"
      ],
      "metadata": {
        "id": "LJvXMz2QTEFB"
      },
      "execution_count": null,
      "outputs": []
    },
    {
      "cell_type": "code",
      "source": [
        "# 8\n",
        "# Customer engagement as measured by 'spend'\n",
        "# 'spend' vs hshd_composition\n",
        "\n",
        "spend_hshdcomposition_df = pd.DataFrame({\n",
        "  'HSHD_COMPOSITION': [hshd_composition for hshd_composition in list(all_three_combined_df['HSHD_COMPOSITION'].unique())],\n",
        "  'SPEND': [\n",
        "            all_three_combined_df.loc[all_three_combined_df['HSHD_COMPOSITION'] == hshd_composition, 'SPEND'].sum() for hshd_composition in list(all_three_combined_df['HSHD_COMPOSITION'].unique())\n",
        "          ]  \n",
        "})\n",
        "\n",
        "spend_hshdcomposition_df.plot(kind='bar', x='HSHD_COMPOSITION', y='SPEND', figsize=(15, 10))\n",
        "plt.xlabel('HSHD_COMPOSITION')\n",
        "plt.ylabel('SPEND')\n",
        "plt.title('SPEND by HSHD_COMPOSITION')"
      ],
      "metadata": {
        "id": "GNorGZwPTEiL"
      },
      "execution_count": null,
      "outputs": []
    },
    {
      "cell_type": "code",
      "source": [
        "  "
      ],
      "metadata": {
        "id": "qZ0WKz2FTmOX"
      },
      "execution_count": null,
      "outputs": []
    },
    {
      "cell_type": "code",
      "source": [],
      "metadata": {
        "id": "LPyud8zNfO9Y"
      },
      "execution_count": null,
      "outputs": []
    },
    {
      "cell_type": "code",
      "source": [],
      "metadata": {
        "id": "cZ-Bs0Ve2Ffl"
      },
      "execution_count": null,
      "outputs": []
    },
    {
      "cell_type": "code",
      "source": [],
      "metadata": {
        "id": "NuVYxQHf2Ftm"
      },
      "execution_count": null,
      "outputs": []
    },
    {
      "cell_type": "code",
      "source": [
        "# imports\n",
        "import seaborn as sns\n",
        "import matplotlib.pyplot as plt"
      ],
      "metadata": {
        "id": "XnDUhnVC2GAn"
      },
      "execution_count": null,
      "outputs": []
    },
    {
      "cell_type": "code",
      "source": [
        "# units by dept over a year\n",
        "units_by_dept_over_year_df = all_three_combined_df.groupby(['DEPARTMENT', 'YEAR']).sum()\n",
        "units_by_dept_over_year_df.reset_index(inplace=True)\n",
        "\n",
        "sns.catplot(data=units_by_dept_over_year_df, x='DEPARTMENT', y='UNITS', hue='YEAR', kind='bar')\n",
        "\n",
        "# spend by dept over a year\n",
        "spend_by_dept_over_year_df = all_three_combined_df.groupby(['DEPARTMENT', 'YEAR']).sum()\n",
        "spend_by_dept_over_year_df.reset_index(inplace=True)\n",
        "\n",
        "sns.catplot(data=spend_by_dept_over_year_df, x='DEPARTMENT', y='SPEND', hue='YEAR', kind='bar')"
      ],
      "metadata": {
        "id": "cbBgktmVfPZN"
      },
      "execution_count": null,
      "outputs": []
    },
    {
      "cell_type": "code",
      "source": [
        "# units by dept over week\n",
        "units_by_dept_over_week_df = all_three_combined_df.groupby(['DEPARTMENT', 'WEEK_NUM']).sum()\n",
        "units_by_dept_over_week_df.reset_index(inplace=True)\n",
        "\n",
        "sns.catplot(data=units_by_dept_over_week_df, x='DEPARTMENT', y='UNITS', hue='WEEK_NUM', kind='bar', aspect=11.7/8.27)\n",
        "\n",
        "# spend by dept over week\n",
        "spend_by_dept_over_week_df = all_three_combined_df.groupby(['DEPARTMENT', 'WEEK_NUM']).sum()\n",
        "spend_by_dept_over_week_df.reset_index(inplace=True)\n",
        "\n",
        "sns.catplot(data=spend_by_dept_over_week_df, x='DEPARTMENT', y='SPEND', hue='WEEK_NUM', kind='bar', aspect=11.7/8.27)"
      ],
      "metadata": {
        "id": "_cb-1lD6z-4f"
      },
      "execution_count": null,
      "outputs": []
    },
    {
      "cell_type": "code",
      "source": [
        "# units by dept over month\n",
        "units_by_dept_over_month_df = all_three_combined_df.groupby(['DEPARTMENT', 'PURCHASE_MONTH']).sum()\n",
        "units_by_dept_over_month_df.reset_index(inplace=True)\n",
        "\n",
        "sns.catplot(data=units_by_dept_over_month_df, x='DEPARTMENT', y='UNITS', hue='PURCHASE_MONTH', kind='bar', aspect=11.7/8.27)\n",
        "\n",
        "# spend by dept over month\n",
        "spend_by_dept_over_month_df = all_three_combined_df.groupby(['DEPARTMENT', 'PURCHASE_MONTH']).sum()\n",
        "spend_by_dept_over_month_df.reset_index(inplace=True)\n",
        "\n",
        "sns.catplot(data=spend_by_dept_over_month_df, x='DEPARTMENT', y='SPEND', hue='PURCHASE_MONTH', kind='bar', aspect=11.7/8.27)"
      ],
      "metadata": {
        "id": "mcOpjRc_f5Po"
      },
      "execution_count": null,
      "outputs": []
    },
    {
      "cell_type": "code",
      "source": [
        "# units by region over a year\n",
        "units_by_region_over_year_df = all_three_combined_df.groupby(['STORE_R', 'YEAR']).sum()\n",
        "units_by_region_over_year_df.reset_index(inplace=True)\n",
        "\n",
        "sns.catplot(data=units_by_region_over_year_df, x='STORE_R', y='UNITS', hue='YEAR', kind='bar')\n",
        "\n",
        "# spend by region over a year\n",
        "spend_by_region_over_year_df = all_three_combined_df.groupby(['STORE_R', 'YEAR']).sum()\n",
        "spend_by_region_over_year_df.reset_index(inplace=True)\n",
        "\n",
        "sns.catplot(data=spend_by_region_over_year_df, x='STORE_R', y='SPEND', hue='YEAR', kind='bar')"
      ],
      "metadata": {
        "id": "9ZBS2N4z_NSe"
      },
      "execution_count": null,
      "outputs": []
    },
    {
      "cell_type": "code",
      "source": [
        "# units by region over week\n",
        "units_by_region_over_week_df = all_three_combined_df.groupby(['STORE_R', 'WEEK_NUM']).sum()\n",
        "units_by_region_over_week_df.reset_index(inplace=True)\n",
        "\n",
        "sns.catplot(data=units_by_region_over_week_df, x='STORE_R', y='UNITS', hue='WEEK_NUM', kind='bar', aspect=11.7/8.27)\n",
        "\n",
        "# spend by region over week\n",
        "spend_by_region_over_week_df = all_three_combined_df.groupby(['STORE_R', 'WEEK_NUM']).sum()\n",
        "spend_by_region_over_week_df.reset_index(inplace=True)\n",
        "\n",
        "sns.catplot(data=spend_by_region_over_week_df, x='STORE_R', y='SPEND', hue='WEEK_NUM', kind='bar', aspect=11.7/8.27)"
      ],
      "metadata": {
        "id": "MaCfdK4F_ryM"
      },
      "execution_count": null,
      "outputs": []
    },
    {
      "cell_type": "code",
      "source": [
        "# units by region over month\n",
        "units_by_region_over_month_df = all_three_combined_df.groupby(['STORE_R', 'PURCHASE_MONTH']).sum()\n",
        "units_by_region_over_month_df.reset_index(inplace=True)\n",
        "\n",
        "sns.catplot(data=units_by_region_over_month_df, x='STORE_R', y='UNITS', hue='PURCHASE_MONTH', kind='bar', aspect=11.7/8.27)\n",
        "\n",
        "# spend by region over month\n",
        "spend_by_region_over_month_df = all_three_combined_df.groupby(['STORE_R', 'PURCHASE_MONTH']).sum()\n",
        "spend_by_region_over_month_df.reset_index(inplace=True)\n",
        "\n",
        "sns.catplot(data=spend_by_region_over_month_df, x='STORE_R', y='SPEND', hue='PURCHASE_MONTH', kind='bar', aspect=11.7/8.27)"
      ],
      "metadata": {
        "id": "nA1ygP1y_9MY"
      },
      "execution_count": null,
      "outputs": []
    },
    {
      "cell_type": "code",
      "source": [
        "# units by agerange over a year\n",
        "units_by_agerange_over_year_df = all_three_combined_df.groupby(['AGE_RANGE', 'YEAR']).sum()\n",
        "units_by_agerange_over_year_df.reset_index(inplace=True)\n",
        "\n",
        "sns.catplot(data=units_by_agerange_over_year_df, x='AGE_RANGE', y='UNITS', hue='YEAR', kind='bar')\n",
        "\n",
        "\n",
        "# spend by agerange over a year\n",
        "spend_by_agerange_over_year_df = all_three_combined_df.groupby(['AGE_RANGE', 'YEAR']).sum()\n",
        "spend_by_agerange_over_year_df.reset_index(inplace=True)\n",
        "\n",
        "sns.catplot(data=spend_by_agerange_over_year_df, x='AGE_RANGE', y='SPEND', hue='YEAR', kind='bar', aspect=15/15)"
      ],
      "metadata": {
        "id": "-a_y8uFSAFAV"
      },
      "execution_count": null,
      "outputs": []
    },
    {
      "cell_type": "code",
      "source": [
        "# units by agerange over week\n",
        "units_by_agerange_over_week_df = all_three_combined_df.groupby(['AGE_RANGE', 'WEEK_NUM']).sum()\n",
        "units_by_agerange_over_week_df.reset_index(inplace=True)\n",
        "\n",
        "sns.catplot(data=units_by_agerange_over_week_df, x='AGE_RANGE', y='UNITS', hue='WEEK_NUM', kind='bar', aspect=11.7/8.27)\n",
        "\n",
        "# spend by agerange over week\n",
        "spend_by_agerange_over_week_df = all_three_combined_df.groupby(['AGE_RANGE', 'WEEK_NUM']).sum()\n",
        "spend_by_agerange_over_week_df.reset_index(inplace=True)\n",
        "\n",
        "sns.catplot(data=spend_by_agerange_over_week_df, x='AGE_RANGE', y='SPEND', hue='WEEK_NUM', kind='bar', aspect=11.7/8.27)"
      ],
      "metadata": {
        "id": "qUBSnJhYBJOC"
      },
      "execution_count": null,
      "outputs": []
    },
    {
      "cell_type": "code",
      "source": [
        "# units by agerange over month\n",
        "units_by_agerange_over_month_df = all_three_combined_df.groupby(['AGE_RANGE', 'PURCHASE_MONTH']).sum()\n",
        "units_by_agerange_over_month_df.reset_index(inplace=True)\n",
        "\n",
        "sns.catplot(data=units_by_agerange_over_month_df, x='AGE_RANGE', y='UNITS', hue='PURCHASE_MONTH', kind='bar', aspect=11.7/8.27)\n",
        "\n",
        "# spend by agerange over month\n",
        "spend_by_agerange_over_month_df = all_three_combined_df.groupby(['AGE_RANGE', 'PURCHASE_MONTH']).sum()\n",
        "spend_by_agerange_over_month_df.reset_index(inplace=True)\n",
        "\n",
        "sns.catplot(data=spend_by_agerange_over_month_df, x='AGE_RANGE', y='SPEND', hue='PURCHASE_MONTH', kind='bar', aspect=11.7/8.27)"
      ],
      "metadata": {
        "id": "IUAzHikQBZZB"
      },
      "execution_count": null,
      "outputs": []
    },
    {
      "cell_type": "code",
      "source": [],
      "metadata": {
        "id": "iwOeqIVXDq-2"
      },
      "execution_count": null,
      "outputs": []
    },
    {
      "cell_type": "code",
      "source": [
        "# units by marital over a year\n",
        "units_by_marital_over_year_df = all_three_combined_df.groupby(['MARITAL', 'YEAR']).sum()\n",
        "units_by_marital_over_year_df.reset_index(inplace=True)\n",
        "\n",
        "sns.catplot(data=units_by_marital_over_year_df, x='MARITAL', y='UNITS', hue='YEAR', kind='bar')\n",
        "\n",
        "\n",
        "# spend by marital over a year\n",
        "spend_by_marital_over_year_df = all_three_combined_df.groupby(['MARITAL', 'YEAR']).sum()\n",
        "spend_by_marital_over_year_df.reset_index(inplace=True)\n",
        "\n",
        "sns.catplot(data=spend_by_marital_over_year_df, x='MARITAL', y='SPEND', hue='YEAR', kind='bar', aspect=15/15)\n",
        "\n",
        "# units by marital over week\n",
        "units_by_marital_over_week_df = all_three_combined_df.groupby(['MARITAL', 'WEEK_NUM']).sum()\n",
        "units_by_marital_over_week_df.reset_index(inplace=True)\n",
        "\n",
        "sns.catplot(data=units_by_marital_over_week_df, x='MARITAL', y='UNITS', hue='WEEK_NUM', kind='bar', aspect=11.7/8.27)\n",
        "\n",
        "# spend by marital over week\n",
        "spend_by_marital_over_week_df = all_three_combined_df.groupby(['MARITAL', 'WEEK_NUM']).sum()\n",
        "spend_by_marital_over_week_df.reset_index(inplace=True)\n",
        "\n",
        "sns.catplot(data=spend_by_marital_over_week_df, x='MARITAL', y='SPEND', hue='WEEK_NUM', kind='bar', aspect=11.7/8.27)\n",
        "\n",
        "# units by marital over month\n",
        "units_by_marital_over_month_df = all_three_combined_df.groupby(['MARITAL', 'PURCHASE_MONTH']).sum()\n",
        "units_by_marital_over_month_df.reset_index(inplace=True)\n",
        "\n",
        "sns.catplot(data=units_by_marital_over_month_df, x='MARITAL', y='UNITS', hue='PURCHASE_MONTH', kind='bar', aspect=11.7/8.27)\n",
        "\n",
        "# spend by marital over month\n",
        "spend_by_marital_over_month_df = all_three_combined_df.groupby(['MARITAL', 'PURCHASE_MONTH']).sum()\n",
        "spend_by_marital_over_month_df.reset_index(inplace=True)\n",
        "\n",
        "sns.catplot(data=spend_by_marital_over_month_df, x='MARITAL', y='SPEND', hue='PURCHASE_MONTH', kind='bar', aspect=11.7/8.27)"
      ],
      "metadata": {
        "id": "h2HuQ23DDywy"
      },
      "execution_count": null,
      "outputs": []
    },
    {
      "cell_type": "code",
      "source": [],
      "metadata": {
        "id": "KkZAhVS4D-Lf"
      },
      "execution_count": null,
      "outputs": []
    },
    {
      "cell_type": "code",
      "source": [
        "# units by incomerange over a year\n",
        "units_by_incomerange_over_year_df = all_three_combined_df.groupby(['INCOME_RANGE', 'YEAR']).sum()\n",
        "units_by_incomerange_over_year_df.reset_index(inplace=True)\n",
        "\n",
        "sns.catplot(data=units_by_incomerange_over_year_df, x='INCOME_RANGE', y='UNITS', hue='YEAR', kind='bar')\n",
        "\n",
        "# spend by incomerange over a year\n",
        "spend_by_incomerange_over_year_df = all_three_combined_df.groupby(['INCOME_RANGE', 'YEAR']).sum()\n",
        "spend_by_incomerange_over_year_df.reset_index(inplace=True)\n",
        "\n",
        "sns.catplot(data=spend_by_incomerange_over_year_df, x='INCOME_RANGE', y='SPEND', hue='YEAR', kind='bar', aspect=15/15)\n",
        "\n",
        "# units by incomerange over week\n",
        "units_by_incomerange_over_week_df = all_three_combined_df.groupby(['INCOME_RANGE', 'WEEK_NUM']).sum()\n",
        "units_by_incomerange_over_week_df.reset_index(inplace=True)\n",
        "\n",
        "sns.catplot(data=units_by_incomerange_over_week_df, x='INCOME_RANGE', y='UNITS', hue='WEEK_NUM', kind='bar', aspect=11.7/8.27)\n",
        "\n",
        "# spend by incomerange over week\n",
        "spend_by_incomerange_over_week_df = all_three_combined_df.groupby(['INCOME_RANGE', 'WEEK_NUM']).sum()\n",
        "spend_by_incomerange_over_week_df.reset_index(inplace=True)\n",
        "\n",
        "sns.catplot(data=spend_by_incomerange_over_week_df, x='INCOME_RANGE', y='SPEND', hue='WEEK_NUM', kind='bar', aspect=11.7/8.27)\n",
        "\n",
        "# units by incomerange over month\n",
        "units_by_incomerange_over_month_df = all_three_combined_df.groupby(['INCOME_RANGE', 'PURCHASE_MONTH']).sum()\n",
        "units_by_incomerange_over_month_df.reset_index(inplace=True)\n",
        "\n",
        "sns.catplot(data=units_by_incomerange_over_month_df, x='INCOME_RANGE', y='UNITS', hue='PURCHASE_MONTH', kind='bar', aspect=11.7/8.27)\n",
        "\n",
        "# spend by incomerange over month\n",
        "spend_by_incomerange_over_month_df = all_three_combined_df.groupby(['INCOME_RANGE', 'PURCHASE_MONTH']).sum()\n",
        "spend_by_incomerange_over_month_df.reset_index(inplace=True)\n",
        "\n",
        "sns.catplot(data=spend_by_incomerange_over_month_df, x='INCOME_RANGE', y='SPEND', hue='PURCHASE_MONTH', kind='bar', aspect=11.7/8.27)"
      ],
      "metadata": {
        "id": "MY6gwQ-aEFnt"
      },
      "execution_count": null,
      "outputs": []
    },
    {
      "cell_type": "code",
      "source": [],
      "metadata": {
        "id": "NeNE7uQKEW3b"
      },
      "execution_count": null,
      "outputs": []
    },
    {
      "cell_type": "code",
      "source": [
        "# units by children over a year\n",
        "units_by_children_over_year_df = all_three_combined_df.groupby(['CHILDREN', 'YEAR']).sum()\n",
        "units_by_children_over_year_df.reset_index(inplace=True)\n",
        "\n",
        "sns.catplot(data=units_by_children_over_year_df, x='CHILDREN', y='UNITS', hue='YEAR', kind='bar')\n",
        "\n",
        "# spend by children over a year\n",
        "spend_by_children_over_year_df = all_three_combined_df.groupby(['CHILDREN', 'YEAR']).sum()\n",
        "spend_by_children_over_year_df.reset_index(inplace=True)\n",
        "\n",
        "sns.catplot(data=spend_by_children_over_year_df, x='CHILDREN', y='SPEND', hue='YEAR', kind='bar', aspect=15/15)\n",
        "\n",
        "# units by children over week\n",
        "units_by_children_over_week_df = all_three_combined_df.groupby(['CHILDREN', 'WEEK_NUM']).sum()\n",
        "units_by_children_over_week_df.reset_index(inplace=True)\n",
        "\n",
        "sns.catplot(data=units_by_children_over_week_df, x='CHILDREN', y='UNITS', hue='WEEK_NUM', kind='bar', aspect=11.7/8.27)\n",
        "\n",
        "# spend by children over week\n",
        "spend_by_children_over_week_df = all_three_combined_df.groupby(['CHILDREN', 'WEEK_NUM']).sum()\n",
        "spend_by_children_over_week_df.reset_index(inplace=True)\n",
        "\n",
        "sns.catplot(data=spend_by_children_over_week_df, x='CHILDREN', y='SPEND', hue='WEEK_NUM', kind='bar', aspect=11.7/8.27)\n",
        "\n",
        "# units by children over month\n",
        "units_by_children_over_month_df = all_three_combined_df.groupby(['CHILDREN', 'PURCHASE_MONTH']).sum()\n",
        "units_by_children_over_month_df.reset_index(inplace=True)\n",
        "\n",
        "sns.catplot(data=units_by_children_over_month_df, x='CHILDREN', y='UNITS', hue='PURCHASE_MONTH', kind='bar', aspect=11.7/8.27)\n",
        "\n",
        "# spend by children over month\n",
        "spend_by_children_over_month_df = all_three_combined_df.groupby(['CHILDREN', 'PURCHASE_MONTH']).sum()\n",
        "spend_by_children_over_month_df.reset_index(inplace=True)\n",
        "\n",
        "sns.catplot(data=spend_by_children_over_month_df, x='CHILDREN', y='SPEND', hue='PURCHASE_MONTH', kind='bar', aspect=11.7/8.27)"
      ],
      "metadata": {
        "id": "5Tw-CT-eEfoj"
      },
      "execution_count": null,
      "outputs": []
    },
    {
      "cell_type": "code",
      "source": [],
      "metadata": {
        "id": "3IR_gJNSEl6x"
      },
      "execution_count": null,
      "outputs": []
    },
    {
      "cell_type": "code",
      "source": [
        "# units by hhsize over a year\n",
        "units_by_hhsize_over_year_df = all_three_combined_df.groupby(['HH_SIZE', 'YEAR']).sum()\n",
        "units_by_hhsize_over_year_df.reset_index(inplace=True)\n",
        "\n",
        "sns.catplot(data=units_by_hhsize_over_year_df, x='HH_SIZE', y='UNITS', hue='YEAR', kind='bar')\n",
        "\n",
        "# spend by hhsize over a year\n",
        "spend_by_hhsize_over_year_df = all_three_combined_df.groupby(['HH_SIZE', 'YEAR']).sum()\n",
        "spend_by_hhsize_over_year_df.reset_index(inplace=True)\n",
        "\n",
        "sns.catplot(data=spend_by_hhsize_over_year_df, x='HH_SIZE', y='SPEND', hue='YEAR', kind='bar', aspect=15/15)\n",
        "\n",
        "# units by hhsize over week\n",
        "units_by_hhsize_over_week_df = all_three_combined_df.groupby(['HH_SIZE', 'WEEK_NUM']).sum()\n",
        "units_by_hhsize_over_week_df.reset_index(inplace=True)\n",
        "\n",
        "sns.catplot(data=units_by_hhsize_over_week_df, x='HH_SIZE', y='UNITS', hue='WEEK_NUM', kind='bar', aspect=11.7/8.27)\n",
        "\n",
        "# spend by hhsize over week\n",
        "spend_by_hhsize_over_week_df = all_three_combined_df.groupby(['HH_SIZE', 'WEEK_NUM']).sum()\n",
        "spend_by_hhsize_over_week_df.reset_index(inplace=True)\n",
        "\n",
        "sns.catplot(data=spend_by_hhsize_over_week_df, x='HH_SIZE', y='SPEND', hue='WEEK_NUM', kind='bar', aspect=11.7/8.27)\n",
        "\n",
        "# units by hhsize over month\n",
        "units_by_hhsize_over_month_df = all_three_combined_df.groupby(['HH_SIZE', 'PURCHASE_MONTH']).sum()\n",
        "units_by_hhsize_over_month_df.reset_index(inplace=True)\n",
        "\n",
        "sns.catplot(data=units_by_hhsize_over_month_df, x='HH_SIZE', y='UNITS', hue='PURCHASE_MONTH', kind='bar', aspect=11.7/8.27)\n",
        "\n",
        "# spend by hhsize over month\n",
        "spend_by_hhsize_over_month_df = all_three_combined_df.groupby(['HH_SIZE', 'PURCHASE_MONTH']).sum()\n",
        "spend_by_hhsize_over_month_df.reset_index(inplace=True)\n",
        "\n",
        "sns.catplot(data=spend_by_hhsize_over_month_df, x='HH_SIZE', y='SPEND', hue='PURCHASE_MONTH', kind='bar', aspect=11.7/8.27)"
      ],
      "metadata": {
        "id": "6ROdQBF6Erk7"
      },
      "execution_count": null,
      "outputs": []
    },
    {
      "cell_type": "code",
      "source": [],
      "metadata": {
        "id": "LIOwkDVmE0de"
      },
      "execution_count": null,
      "outputs": []
    },
    {
      "cell_type": "code",
      "source": [],
      "metadata": {
        "id": "SX0SkpP53h8l"
      },
      "execution_count": null,
      "outputs": []
    },
    {
      "cell_type": "code",
      "source": [],
      "metadata": {
        "id": "fvZRkETO3h6l"
      },
      "execution_count": null,
      "outputs": []
    },
    {
      "cell_type": "code",
      "source": [
        "data = all_three_combined_df"
      ],
      "metadata": {
        "id": "i8x3nDtLLBMV"
      },
      "execution_count": null,
      "outputs": []
    },
    {
      "cell_type": "code",
      "source": [
        "# strip white spaces from all columns\n",
        "for col_name in all_three_combined_df.columns:\n",
        "  if(isinstance(data[col_name][0], str)):\n",
        "    data[col_name] = data[col_name].apply(lambda x: x.strip())"
      ],
      "metadata": {
        "id": "GhVi1SF5LDxl"
      },
      "execution_count": null,
      "outputs": []
    },
    {
      "cell_type": "code",
      "source": [
        "data"
      ],
      "metadata": {
        "id": "ty4HRi4vL45F"
      },
      "execution_count": null,
      "outputs": []
    },
    {
      "cell_type": "code",
      "source": [
        "cols = []\n",
        "for col_name in data.columns:\n",
        "  if(isinstance(data[col_name][0], str)):\n",
        "    cols.append(col_name)\n",
        "    print(col_name)\n",
        "\n",
        "cols"
      ],
      "metadata": {
        "id": "uReviyjfM4lK"
      },
      "execution_count": null,
      "outputs": []
    },
    {
      "cell_type": "code",
      "source": [
        "data[\"CHILDREN\"].fillna(\"Not Specified\", inplace = True)"
      ],
      "metadata": {
        "id": "MmsU8azUO0Sw"
      },
      "execution_count": null,
      "outputs": []
    },
    {
      "cell_type": "code",
      "source": [
        "final_data = data.replace(\"null\", \"Not Specified\")"
      ],
      "metadata": {
        "id": "GS273-TSPbl4"
      },
      "execution_count": null,
      "outputs": []
    },
    {
      "cell_type": "code",
      "source": [
        "final_data"
      ],
      "metadata": {
        "id": "lS43Ara9Qzt6"
      },
      "execution_count": null,
      "outputs": []
    },
    {
      "cell_type": "code",
      "source": [
        "from sklearn.preprocessing import LabelEncoder\n",
        "le = LabelEncoder()\n",
        "# LabelEncode multiple columns at once\n",
        "final_data[cols] = final_data[cols].apply(le.fit_transform)"
      ],
      "metadata": {
        "id": "JRvNUsUgQ1Id"
      },
      "execution_count": null,
      "outputs": []
    },
    {
      "cell_type": "code",
      "source": [
        "final_data"
      ],
      "metadata": {
        "id": "Y1jkDeHWTiZG"
      },
      "execution_count": null,
      "outputs": []
    },
    {
      "cell_type": "code",
      "source": [
        "import tensorflow as tf\n",
        "from keras.models import Sequential\n",
        "import pandas as pd\n",
        "from keras.layers import Dense\n",
        "import numpy as np"
      ],
      "metadata": {
        "id": "q0hXSDP3TkKT"
      },
      "execution_count": null,
      "outputs": []
    },
    {
      "cell_type": "code",
      "source": [
        "labels_df = pd.DataFrame({'UNITS': final_data['UNITS'], 'SPEND': final_data['SPEND']})\n",
        "# labels_df.values"
      ],
      "metadata": {
        "id": "ibEqQ6vqT9jn"
      },
      "execution_count": null,
      "outputs": []
    },
    {
      "cell_type": "code",
      "source": [
        "labels = labels_df.values"
      ],
      "metadata": {
        "id": "ofwsrSx0aZ9f"
      },
      "execution_count": null,
      "outputs": []
    },
    {
      "cell_type": "code",
      "source": [
        "labels"
      ],
      "metadata": {
        "id": "KnUA2luCcVXj"
      },
      "execution_count": null,
      "outputs": []
    },
    {
      "cell_type": "code",
      "source": [
        "Y = labels"
      ],
      "metadata": {
        "id": "BrAZHgPLccTU"
      },
      "execution_count": null,
      "outputs": []
    },
    {
      "cell_type": "code",
      "source": [
        "features = final_data.drop(columns=['UNITS', 'SPEND'])"
      ],
      "metadata": {
        "id": "VwCintZ3aaf3"
      },
      "execution_count": null,
      "outputs": []
    },
    {
      "cell_type": "code",
      "source": [
        "X = features.values"
      ],
      "metadata": {
        "id": "obUidrPgcP6p"
      },
      "execution_count": null,
      "outputs": []
    },
    {
      "cell_type": "code",
      "source": [
        "from sklearn.model_selection import train_test_split\n",
        "X_train, X_test, y_train, y_test = train_test_split(features, labels_df, test_size=0.20, random_state=42)"
      ],
      "metadata": {
        "id": "Z9I4GVPYcQja"
      },
      "execution_count": null,
      "outputs": []
    },
    {
      "cell_type": "code",
      "source": [
        "from sklearn.preprocessing import StandardScaler\n",
        "scaler = StandardScaler().fit(X_train)\n",
        "X_train = scaler.transform(X_train)\n",
        "X_test = scaler.transform(X_test)"
      ],
      "metadata": {
        "id": "Rfx7FWXreEji"
      },
      "execution_count": null,
      "outputs": []
    },
    {
      "cell_type": "code",
      "source": [
        "model = Sequential()\n",
        "model.add(Dense(8, activation='relu', input_shape=(20,)))\n",
        "model.add(Dense(8, activation='relu'))\n",
        "model.add(Dense(2, activation='sigmoid'))\n",
        "model.compile(loss='binary_crossentropy',\n",
        "optimizer='adam',\n",
        "metrics=['accuracy'])\n",
        "model.fit(X_train, y_train,epochs=1, batch_size=8, verbose=1)"
      ],
      "metadata": {
        "id": "0glqlq0xeG8K"
      },
      "execution_count": null,
      "outputs": []
    },
    {
      "cell_type": "code",
      "source": [
        "y_pred = model.predict(X_test)\n",
        "score = model.evaluate(X_test, y_test,verbose=1)\n",
        "print(score)"
      ],
      "metadata": {
        "id": "4lvcwP8yfKyW"
      },
      "execution_count": null,
      "outputs": []
    },
    {
      "cell_type": "code",
      "source": [
        "# Description for Q1\n",
        "# Provide a short write-up on which Data Science Predictive modeling techniques would be most suitable \n",
        "# to reasonably answer the questions below.  Please see The Top 10 Machine Learning Algorithms \n",
        "# Links to an external site. for model section. (No more than 200 words) (3 points)\n",
        "\n",
        "# The retail dataset given to us has a lot of columns. The dashboard charts and data exploration done by us\n",
        "# clearly indicated that spending (SPEND) and amount of units (UNITS) sold were the factors that\n",
        "# measure customer engagement as a customer is usually directly related to spending money and amount\n",
        "# purchased as well. Hence, we decided to train a model that could predict spending and the amount of\n",
        "# units sold based on other feature columns like region, week number, year, purchase month, department, and\n",
        "# other columns.\n",
        "\n",
        "# A small neural network trained to learn the amount of money spent and the amount of units sold \n",
        "# from a retail dataset can provide a valuable insight into the behavior of customers and the \n",
        "# effectiveness of an organization’s marketing strategies. Such a network can be used to predict \n",
        "# customer spending patterns, identify trends in sales, and help optimize pricing.\n",
        "\n",
        "# The neural network consists of 3 layers, including an input layer, an output layer, \n",
        "# and hidden layers. The input layer takes in data from the retail dataset, such as\n",
        "# time of purchase, household size, region, department and other features. The hidden layers are then used to process the \n",
        "# data, extracting features and patterns, and then the output layer is used to make predictions \n",
        "# based on the learned patterns.\n",
        "\n",
        "# The neural network can be trained using various algorithms. For example, a backpropagation \n",
        "# algorithm can be used to adjust the weights of the network in order to reduce the error rate \n",
        "# of the predictions. We usd Adam optimizer to optimize the weights of the network.\n",
        "\n",
        "# Once the network is trained, it can be used to make predictions about the amount of money \n",
        "# spent and the amount of units sold. This can be used to inform marketing strategies, \n",
        "# optimize pricing, and focus on products or services that are in demand. The insights \n",
        "# provided by the neural network can also be used to gain a better understanding of \n",
        "# customer behavior and the effectiveness of an organization’s marketing efforts."
      ],
      "metadata": {
        "id": "Ea3dpJSbmJ77"
      },
      "execution_count": null,
      "outputs": []
    }
  ]
}